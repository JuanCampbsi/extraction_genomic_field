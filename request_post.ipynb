{
 "cells": [
  {
   "cell_type": "code",
   "execution_count": 3,
   "metadata": {},
   "outputs": [],
   "source": [
    "import requests\n",
    "import pandas as pd\n",
    "from apscheduler.schedulers.blocking import BlockingScheduler\n",
    "from IPython.display import clear_output\n",
    "\n",
    "\n",
    "def run_batch_loader():\n",
    "    clear_output(wait=False)\n",
    "    response = requests.post(url='http://localhost:5000/batch')\n",
    "    new_response_json = pd.Series(response.json())\n",
    "    df = pd.DataFrame([new_response_json])\n",
    "    display(df)\n",
    "\n",
    "\n",
    "def run_pipeline():\n",
    "    clear_output(wait=False)\n",
    "    response = requests.post(url='http://localhost:5000/pipeline')\n",
    "    new_response_json = pd.Series(response.json())\n",
    "    df = pd.DataFrame([new_response_json])\n",
    "    display(df)\n",
    "\n",
    "\n",
    "scheduler = BlockingScheduler()\n",
    "scheduler.add_job(run_batch_loader,  'cron', minute=0)\n",
    "scheduler.add_job(run_pipeline,  'cron', hour=14, minute=00)\n",
    "# scheduler.add_job(run_batch_loader, 'interval', seconds=10)\n",
    "# scheduler.add_job(run_pipeline, 'interval', seconds=10)\n",
    "scheduler.start()"
   ]
  }
 ],
 "metadata": {
  "kernelspec": {
   "display_name": "venv",
   "language": "python",
   "name": "python3"
  },
  "language_info": {
   "codemirror_mode": {
    "name": "ipython",
    "version": 3
   },
   "file_extension": ".py",
   "mimetype": "text/x-python",
   "name": "python",
   "nbconvert_exporter": "python",
   "pygments_lexer": "ipython3",
   "version": "3.10.13"
  },
  "orig_nbformat": 4
 },
 "nbformat": 4,
 "nbformat_minor": 2
}
